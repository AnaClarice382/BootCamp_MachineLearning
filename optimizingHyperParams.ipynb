{
  "nbformat": 4,
  "nbformat_minor": 0,
  "metadata": {
    "kernelspec": {
      "display_name": "Python 3",
      "language": "python",
      "name": "python3"
    },
    "language_info": {
      "codemirror_mode": {
        "name": "ipython",
        "version": 3
      },
      "file_extension": ".py",
      "mimetype": "text/x-python",
      "name": "python",
      "nbconvert_exporter": "python",
      "pygments_lexer": "ipython3",
      "version": "3.8.4"
    },
    "colab": {
      "name": "OtimizandoHiperParametros.ipynb",
      "provenance": [],
      "collapsed_sections": [],
      "include_colab_link": true
    }
  },
  "cells": [
    {
      "cell_type": "markdown",
      "metadata": {
        "id": "view-in-github",
        "colab_type": "text"
      },
      "source": [
        "<a href=\"https://colab.research.google.com/github/AnaClarice382/BootCamp_MachineLearning/blob/master/OtimizandoHiperParametros.ipynb\" target=\"_parent\"><img src=\"https://colab.research.google.com/assets/colab-badge.svg\" alt=\"Open In Colab\"/></a>"
      ]
    },
    {
      "cell_type": "code",
      "metadata": {
        "id": "2kBEvvzYdin8",
        "colab_type": "code",
        "colab": {}
      },
      "source": [
        "from sklearn.datasets import load_wine\n",
        "wine = load_wine()"
      ],
      "execution_count": 27,
      "outputs": []
    },
    {
      "cell_type": "code",
      "metadata": {
        "id": "0qcAyGm9diol",
        "colab_type": "code",
        "colab": {}
      },
      "source": [
        "#selecionando os dados para a construção da previsão\n",
        "x = wine.data[:,:] #features de cada elemento\n",
        "y = wine.target #classes de cada elemento"
      ],
      "execution_count": 28,
      "outputs": []
    },
    {
      "cell_type": "code",
      "metadata": {
        "id": "IBRBL2f_dios",
        "colab_type": "code",
        "colab": {}
      },
      "source": [
        "from sklearn.model_selection import train_test_split\n",
        "x_train, x_test, y_train, y_test = train_test_split(x, y, test_size=0.33, random_state=42) "
      ],
      "execution_count": 29,
      "outputs": []
    },
    {
      "cell_type": "code",
      "metadata": {
        "id": "1FRp1v0vdipE",
        "colab_type": "code",
        "colab": {}
      },
      "source": [
        "from sklearn.ensemble import RandomForestClassifier\n",
        "rfc = RandomForestClassifier(max_depth=10, random_state=1)\n",
        "rfc.fit(x_train, y_train)\n",
        "y_pred = rfc.predict(x_test)\n",
        "rfc.score(x_test, y_test)\n",
        "\n",
        "from sklearn.metrics import accuracy_score, recall_score, precision_score\n",
        "\n",
        "#Metrics RFC\n",
        "rfc_acc = round(accuracy_score(y_test, y_pred), 6)\n",
        "rfc_recall = round(recall_score(y_test, y_pred, average='weighted'), 6)\n",
        "rfc_precision = round(precision_score(y_test, y_pred, average='weighted'), 6)"
      ],
      "execution_count": 30,
      "outputs": []
    },
    {
      "cell_type": "code",
      "metadata": {
        "id": "xd5Wgmxzdipf",
        "colab_type": "code",
        "colab": {}
      },
      "source": [
        "#KNN\n",
        "from sklearn.neighbors import KNeighborsClassifier\n",
        "knn = KNeighborsClassifier(n_neighbors=3)\n",
        "knn.fit(x_train, y_train)\n",
        "y_pred = knn.predict(x_test)\n",
        "\n",
        "#Metrics KNN\n",
        "knn_acc = round(accuracy_score(y_test, y_pred), 6)\n",
        "knn_recall = round(recall_score(y_test, y_pred, average='weighted'), 6)\n",
        "knn_precision = round(precision_score(y_test, y_pred, average='weighted'), 6)"
      ],
      "execution_count": 31,
      "outputs": []
    },
    {
      "cell_type": "code",
      "metadata": {
        "id": "pVuE2wRTdipi",
        "colab_type": "code",
        "colab": {
          "base_uri": "https://localhost:8080/",
          "height": 102
        },
        "outputId": "3930c834-f03d-4254-9e12-1751d474b637"
      },
      "source": [
        "#Compare KNN vs RFC\n",
        "print(\"KNN vs Random Forest\\n\")\n",
        "print(\"Acurácia: {0} vs {1}\".format(knn_acc, rfc_acc))\n",
        "print(\"Recall: {0} vs {1}\".format(knn_recall, rfc_recall))\n",
        "print(\"Precisão: {0} vs {1}\".format(knn_precision, rfc_precision))\n"
      ],
      "execution_count": 32,
      "outputs": [
        {
          "output_type": "stream",
          "text": [
            "KNN vs Random Forest\n",
            "\n",
            "Acurácia: 0.694915 vs 1.0\n",
            "Recall: 0.694915 vs 1.0\n",
            "Precisão: 0.698231 vs 1.0\n"
          ],
          "name": "stdout"
        }
      ]
    },
    {
      "cell_type": "code",
      "metadata": {
        "id": "drhAK_yedipp",
        "colab_type": "code",
        "colab": {}
      },
      "source": [
        "#Buscando hiperparametros\n",
        "from sklearn.model_selection import GridSearchCV"
      ],
      "execution_count": 33,
      "outputs": []
    },
    {
      "cell_type": "code",
      "metadata": {
        "id": "g20cVNNjdipr",
        "colab_type": "code",
        "colab": {
          "base_uri": "https://localhost:8080/",
          "height": 34
        },
        "outputId": "e365cd68-df9a-4418-e609-2c27c1091fa4"
      },
      "source": [
        "#RFC\n",
        "parameters = {'min_samples_split':(2,6)}\n",
        "rfc_hps = GridSearchCV(rfc, parameters)\n",
        "rfc_hps.fit(x, y)\n",
        "print(\"Melhor valor para min_samples_split: {0}\".format(rfc_hps.best_params_['min_samples_split']))"
      ],
      "execution_count": 34,
      "outputs": [
        {
          "output_type": "stream",
          "text": [
            "Melhor valor para min_samples_split: 2\n"
          ],
          "name": "stdout"
        }
      ]
    },
    {
      "cell_type": "code",
      "metadata": {
        "id": "kCX-b8U6dipu",
        "colab_type": "code",
        "colab": {
          "base_uri": "https://localhost:8080/",
          "height": 34
        },
        "outputId": "cde8f891-d224-4ec5-eeb1-73fbb7a1097b"
      },
      "source": [
        "#KNN\n",
        "parameters = {'n_neighbors':(1,20)}\n",
        "knn_hps = GridSearchCV(knn, parameters)\n",
        "knn_hps.fit(x, y)\n",
        "knn_hps.best_params_['n_neighbors']\n",
        "print(\"Melhor valor para n_neighbors:{0}\".format(knn_hps.best_params_['n_neighbors']))"
      ],
      "execution_count": 35,
      "outputs": [
        {
          "output_type": "stream",
          "text": [
            "Melhor valor para n_neighbors:1\n"
          ],
          "name": "stdout"
        }
      ]
    },
    {
      "cell_type": "code",
      "metadata": {
        "id": "pjSlayIedipz",
        "colab_type": "code",
        "colab": {}
      },
      "source": [
        ""
      ],
      "execution_count": 35,
      "outputs": []
    }
  ]
}