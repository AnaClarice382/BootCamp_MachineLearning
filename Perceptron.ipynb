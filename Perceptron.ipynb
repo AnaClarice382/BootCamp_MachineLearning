{
  "nbformat": 4,
  "nbformat_minor": 0,
  "metadata": {
    "colab": {
      "name": "Perceptron.ipynb",
      "provenance": [],
      "collapsed_sections": [],
      "authorship_tag": "ABX9TyN5cbg2D+7ErIvdit672bjT",
      "include_colab_link": true
    },
    "kernelspec": {
      "name": "python3",
      "display_name": "Python 3"
    }
  },
  "cells": [
    {
      "cell_type": "markdown",
      "metadata": {
        "id": "view-in-github",
        "colab_type": "text"
      },
      "source": [
        "<a href=\"https://colab.research.google.com/github/AnaClarice382/BootCamp_MachineLearning/blob/master/Perceptron.ipynb\" target=\"_parent\"><img src=\"https://colab.research.google.com/assets/colab-badge.svg\" alt=\"Open In Colab\"/></a>"
      ]
    },
    {
      "cell_type": "code",
      "metadata": {
        "id": "1Hy_ELd4Ex26",
        "colab_type": "code",
        "colab": {}
      },
      "source": [
        "w = [0,0,0,0]\n",
        "#entradas\n",
        "x= [[-1,-1,1,1],[1,1,1,1],[1,1,-1,1],[-1,-1,-1,1]]\n",
        "#respostas esperadas\n",
        "t = [1,1,1,-1]\n",
        "#bias (ajuste fino)\n",
        "b=0\n",
        "#saida\n",
        "y=0\n",
        "#taxa de aprendizado\n",
        "taxa_aprendizado = 1\n",
        "soma = 0\n",
        "threshold = 1\n",
        "#nome do animal\n",
        "animal = \"\"\n",
        "#acerto ou falha\n",
        "resposta = \"\""
      ],
      "execution_count": null,
      "outputs": []
    },
    {
      "cell_type": "code",
      "metadata": {
        "id": "UuvenXQXPH5L",
        "colab_type": "code",
        "colab": {}
      },
      "source": [
        "#numero maximo de interações\n",
        "max_int = 10"
      ],
      "execution_count": null,
      "outputs": []
    },
    {
      "cell_type": "code",
      "metadata": {
        "id": "zz6LCHuqFK3R",
        "colab_type": "code",
        "colab": {}
      },
      "source": [
        "#dicionario de dados\n",
        "d = {'-1,-1,1,1':'cachorro','1,1,1,1':'gato','1,1,-1,1':'cavalo','-1,-1,-1,1':'homem'}"
      ],
      "execution_count": null,
      "outputs": []
    },
    {
      "cell_type": "code",
      "metadata": {
        "id": "YU1SclTuGReV",
        "colab_type": "code",
        "colab": {}
      },
      "source": [
        "#funcao para converter\n",
        "def listToString(list):\n",
        "  s = str(list).strip('[]')\n",
        "  s = s.replace(' ', '')\n",
        "  return s"
      ],
      "execution_count": null,
      "outputs": []
    },
    {
      "cell_type": "code",
      "metadata": {
        "id": "TSOPBLoLGzcZ",
        "colab_type": "code",
        "colab": {
          "base_uri": "https://localhost:8080/",
          "height": 986
        },
        "outputId": "13864751-2726-4a35-8775-8f3ef4f0dc87"
      },
      "source": [
        "#algoritmo\n",
        "for k in range(1, max_int):\n",
        "  acertos = 0\n",
        "  print(\"Iteracao \"+str(k)+\"---------\")\n",
        "  for i in range(0, len(x)):\n",
        "    soma = 0\n",
        "\n",
        "    if(listToString(x[i])) in d:\n",
        "      animal = d[listToString(x[i])]\n",
        "    else:\n",
        "      animal = \"\"\n",
        "    \n",
        "    for j in range(0, len(x[i])):\n",
        "      soma += x[i][j] * w[j]\n",
        "\n",
        "    y_in = b + soma\n",
        "\n",
        "    if y_in > threshold:\n",
        "      y =1\n",
        "    elif y_in >= -threshold and y_in <= threshold:\n",
        "      y=0\n",
        "    else:\n",
        "      y = -1\n",
        "\n",
        "    if y == t[i]:\n",
        "      acertos+=1\n",
        "      resposta = \"acerto\"\n",
        "    else:\n",
        "      for j in range(0, len(w)):\n",
        "        w[j] = w[j] + (taxa_aprendizado * t[i] * x[i][j])\n",
        "        print(\"Novo peso \"+str(j)+\"\"+str(w[j]))\n",
        "      b = t[i] - y\n",
        "      resposta = \"Falha! O Peso foi atualizado \"+\" Bias = \"+str(b)\n",
        "\n",
        "    if y == 1:\n",
        "      print(animal+\" = quadrupede \" +resposta)\n",
        "    elif y == 0:\n",
        "      print(animal+\" = não foi possivel identificar \" +resposta)\n",
        "    elif y == -1:\n",
        "      print(animal+\" = bipede \" +resposta)\n",
        "\n",
        "  if acertos == len(x):\n",
        "    print(\"Funcionalidade aprendida com\" + str(k)+ \" interações\")\n",
        "    break;\n",
        "  print(\"\")\n",
        "print(\"Finalizado\")"
      ],
      "execution_count": null,
      "outputs": [
        {
          "output_type": "stream",
          "text": [
            "Iteracao 1---------\n",
            "Novo peso 0-1\n",
            "Novo peso 1-1\n",
            "Novo peso 21\n",
            "Novo peso 31\n",
            "cachorro = não foi possivel identificar Falha! O Peso foi atualizado  Bias = 1\n",
            "Novo peso 00\n",
            "Novo peso 10\n",
            "Novo peso 22\n",
            "Novo peso 32\n",
            "gato = não foi possivel identificar Falha! O Peso foi atualizado  Bias = 1\n",
            "Novo peso 01\n",
            "Novo peso 11\n",
            "Novo peso 21\n",
            "Novo peso 33\n",
            "cavalo = não foi possivel identificar Falha! O Peso foi atualizado  Bias = 1\n",
            "Novo peso 02\n",
            "Novo peso 12\n",
            "Novo peso 22\n",
            "Novo peso 32\n",
            "homem = não foi possivel identificar Falha! O Peso foi atualizado  Bias = -1\n",
            "\n",
            "Iteracao 2---------\n",
            "Novo peso 01\n",
            "Novo peso 11\n",
            "Novo peso 23\n",
            "Novo peso 33\n",
            "cachorro = não foi possivel identificar Falha! O Peso foi atualizado  Bias = 1\n",
            "gato = quadrupede acerto\n",
            "cavalo = quadrupede acerto\n",
            "Novo peso 02\n",
            "Novo peso 12\n",
            "Novo peso 24\n",
            "Novo peso 32\n",
            "homem = não foi possivel identificar Falha! O Peso foi atualizado  Bias = -1\n",
            "\n",
            "Iteracao 3---------\n",
            "Novo peso 01\n",
            "Novo peso 11\n",
            "Novo peso 25\n",
            "Novo peso 33\n",
            "cachorro = não foi possivel identificar Falha! O Peso foi atualizado  Bias = 1\n",
            "gato = quadrupede acerto\n",
            "Novo peso 02\n",
            "Novo peso 12\n",
            "Novo peso 24\n",
            "Novo peso 34\n",
            "cavalo = não foi possivel identificar Falha! O Peso foi atualizado  Bias = 1\n",
            "homem = bipede acerto\n",
            "\n",
            "Iteracao 4---------\n",
            "cachorro = quadrupede acerto\n",
            "gato = quadrupede acerto\n",
            "cavalo = quadrupede acerto\n",
            "homem = bipede acerto\n",
            "Funcionalidade aprendida com4 interações\n",
            "Finalizado\n"
          ],
          "name": "stdout"
        }
      ]
    },
    {
      "cell_type": "code",
      "metadata": {
        "id": "mFJnOKnRHUyp",
        "colab_type": "code",
        "colab": {}
      },
      "source": [
        ""
      ],
      "execution_count": null,
      "outputs": []
    },
    {
      "cell_type": "code",
      "metadata": {
        "id": "AZ9madT8JHTY",
        "colab_type": "code",
        "colab": {}
      },
      "source": [
        " \n",
        "\n",
        "  "
      ],
      "execution_count": null,
      "outputs": []
    },
    {
      "cell_type": "code",
      "metadata": {
        "id": "mTftj4ohJ3aj",
        "colab_type": "code",
        "colab": {}
      },
      "source": [
        ""
      ],
      "execution_count": null,
      "outputs": []
    }
  ]
}